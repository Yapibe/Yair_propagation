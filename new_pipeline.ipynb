{
 "cells": [
  {
   "cell_type": "code",
   "execution_count": 1,
   "id": "initial_id",
   "metadata": {
    "collapsed": true,
    "ExecuteTime": {
     "end_time": "2024-01-23T14:22:25.771407400Z",
     "start_time": "2024-01-23T14:22:23.454382900Z"
    }
   },
   "outputs": [],
   "source": [
    "import pandas as pd\n",
    "import numpy as np\n",
    "from os import path, listdir, makedirs\n",
    "from datetime import datetime\n",
    "from scipy.stats import rankdata, ranksums, ks_2samp\n",
    "import matplotlib.pyplot as plt\n",
    "import shutil"
   ]
  },
  {
   "cell_type": "code",
   "outputs": [],
   "source": [
    "def load_pathways_genes():\n",
    "    pathways = {}\n",
    "    with open(pathway_file_dir, 'r') as f:\n",
    "        for line in f:\n",
    "            parts = line.strip().upper().split('\\t')  # Split each line into parts\n",
    "            if len(parts) < 3:  # If there are not enough parts for name, size, and genes\n",
    "                continue\n",
    "\n",
    "            pathway_name = parts[0]  # The pathway name is the first part\n",
    "            try:\n",
    "                pathway_size = int(parts[1])  # The pathway size is the second part\n",
    "            except ValueError:\n",
    "                continue  # Skip this line if the size is not an integer\n",
    "\n",
    "            # Further split the gene part by spaces and then take the number of genes specified by pathway_size\n",
    "            genes = parts[2]  # The third part is the space-separated list of gene IDs\n",
    "            gene_list = genes.split()  # Split the genes by spaces\n",
    "\n",
    "            # Convert each gene to an integer\n",
    "            try:\n",
    "                genes = [int(gene) for gene in gene_list[:pathway_size]]\n",
    "            except ValueError:\n",
    "                continue  # Skip this line if any gene is not an integer\n",
    "\n",
    "            pathways[pathway_name] = genes  # Add the pathway and its genes to the dictionary\n",
    "\n",
    "    return pathways\n",
    "\n",
    "\n",
    "def get_scores():\n",
    "    # Path to the file containing the raw scores (adjust as necessary)\n",
    "    raw_scores_file_path = path.join(input_dir, f'{test_name}.xlsx')\n",
    "\n",
    "    try:\n",
    "        # Load raw data from the file\n",
    "        raw_data = pd.read_excel(raw_scores_file_path)\n",
    "\n",
    "        # Perform necessary preprocessing on raw_data\n",
    "        # For instance, sorting, filtering, or extracting specific columns\n",
    "        # Assuming 'GeneID' and 'Score' are columns in the raw data\n",
    "        sorted_raw_data = raw_data.sort_values(by='GeneID').reset_index(drop=True)\n",
    "\n",
    "        # Create a dictionary for gene_id_to_score\n",
    "        scores_dict = {gene_id: score for gene_id, score in zip(sorted_raw_data['GeneID'], sorted_raw_data['Score'])}\n",
    "        return scores_dict\n",
    "\n",
    "    except FileNotFoundError:\n",
    "        print(f\"File not found: {raw_scores_file_path}\")\n",
    "        return pd.DataFrame(), {}\n",
    "    except Exception as e:\n",
    "        print(f\"An error occurred: {e}\")\n",
    "        return pd.DataFrame(), {}"
   ],
   "metadata": {
    "collapsed": false,
    "ExecuteTime": {
     "end_time": "2024-01-23T14:22:25.778923900Z",
     "start_time": "2024-01-23T14:22:25.771407400Z"
    }
   },
   "id": "c763e9b4e3f3af01",
   "execution_count": 2
  },
  {
   "cell_type": "code",
   "outputs": [],
   "source": [
    "def bh_correction(p_values):\n",
    "    p_vals_rank = rankdata(p_values, 'max') - 1\n",
    "    p_vals_rank_ord = rankdata(p_values, 'ordinal') - 1\n",
    "\n",
    "    p_values_sorted = np.zeros_like(p_vals_rank)\n",
    "    p_values_sorted[p_vals_rank_ord] = np.arange(len(p_vals_rank_ord))\n",
    "\n",
    "    p_vals = p_values * (len(p_values) / (p_vals_rank + 1))\n",
    "    adj_p_vals_by_rank = p_vals[p_values_sorted]\n",
    "\n",
    "    p_vals_ordered = np.minimum(adj_p_vals_by_rank, np.minimum.accumulate(adj_p_vals_by_rank[::-1])[::-1])\n",
    "    adj_p_vals = p_vals_ordered[p_vals_rank]\n",
    "    return adj_p_vals"
   ],
   "metadata": {
    "collapsed": false,
    "ExecuteTime": {
     "end_time": "2024-01-23T14:22:25.822891500Z",
     "start_time": "2024-01-23T14:22:25.781926200Z"
    }
   },
   "id": "221368c21947043a",
   "execution_count": 3
  },
  {
   "cell_type": "code",
   "outputs": [],
   "source": [
    "def perform_statist():\n",
    "    scores = get_scores()\n",
    "\n",
    "    significant_pathways_with_genes = {}\n",
    "    ks_p_values = []\n",
    "    pathway_names = []\n",
    "    results = {}\n",
    "\n",
    "    # Precompute scores keys for efficiency\n",
    "    scores_keys = set(scores.keys())\n",
    "\n",
    "    # Filter genes for each pathway, only includes genes that are in the experiment and in the pathway file\n",
    "    genes_by_pathway_filtered = {\n",
    "        pathway: [gene_id for gene_id in genes if gene_id in scores]\n",
    "        for pathway, genes in genes_by_pathway.items()\n",
    "    }\n",
    "\n",
    "    # Filter pathways based on gene count criteria\n",
    "    pathways_with_many_genes = [\n",
    "        pathway for pathway, genes in genes_by_pathway_filtered.items()\n",
    "        if minimum_gene_per_pathway <= len(genes) <= maximum_gene_per_pathway\n",
    "    ]\n",
    "\n",
    "    print('After filtering:', len(pathways_with_many_genes))\n",
    "\n",
    "    # Perform statistical tests\n",
    "    for pathway in pathways_with_many_genes:\n",
    "        filtered_genes = set(genes_by_pathway_filtered[pathway])\n",
    "        pathway_scores = [scores[gene_id] for gene_id in filtered_genes]\n",
    "        background_scores = [scores[gene_id] for gene_id in scores_keys - filtered_genes]\n",
    "\n",
    "        result = statistic_test(pathway_scores, background_scores)\n",
    "        results[pathway] = result\n",
    "        ks_p_values.append(result)\n",
    "        pathway_names.append(pathway)\n",
    "\n",
    "    # Apply BH correction\n",
    "    adjusted_p_values = bh_correction(np.array(ks_p_values))\n",
    "\n",
    "    # Filter significant pathways based on adjusted p-values\n",
    "    for i, pathway in enumerate(pathway_names):\n",
    "        if adjusted_p_values[i] < 0.05:  # Using a significance threshold of 0.05\n",
    "            significant_pathways_with_genes[pathway] = (\n",
    "            genes_by_pathway_filtered[pathway], adjusted_p_values[i], results[pathway]\n",
    "            )\n",
    "\n",
    "    return significant_pathways_with_genes, scores"
   ],
   "metadata": {
    "collapsed": false,
    "ExecuteTime": {
     "end_time": "2024-01-23T14:22:25.839587100Z",
     "start_time": "2024-01-23T14:22:25.805811900Z"
    }
   },
   "id": "26f68ce5f1aadb51",
   "execution_count": 4
  },
  {
   "cell_type": "code",
   "outputs": [],
   "source": [
    "def perform_statist_mann_whitney(pathways_with_many_genes, scores):\n",
    "    mw_p_values = []\n",
    "    significant_pathways_with_genes = {}\n",
    "\n",
    "    scores_keys = set(scores.keys())\n",
    "\n",
    "    # Mann-Whitney U test and FDR\n",
    "    for pathway, genes_info in pathways_with_many_genes.items():\n",
    "        pathway_genes = set(genes_info[0])\n",
    "        pathway_scores = [scores[gene_id] for gene_id in pathway_genes]\n",
    "        background_scores = [scores[gene_id] for gene_id in scores_keys - pathway_genes]\n",
    "\n",
    "        # Perform Mann-Whitney U Test\n",
    "        mw_pval = wilcoxon_rank_sums_test(pathway_scores, background_scores)\n",
    "        mw_p_values.append(mw_pval)\n",
    "\n",
    "\n",
    "    # Apply BH correction to Mann-Whitney p-values\n",
    "    adjusted_mw_p_values = bh_correction(np.array(mw_p_values))\n",
    "\n",
    "    filtered_pathways = []\n",
    "    for i, (pathway, genes) in enumerate(pathways_with_many_genes.items()):\n",
    "        if adjusted_mw_p_values[i] < 0.05:  # Significance threshold\n",
    "            significant_pathways_with_genes[pathway] = genes\n",
    "            filtered_pathways.append({\n",
    "                'Pathway': pathway,\n",
    "                'Adjusted_p_value': adjusted_mw_p_values[i],\n",
    "                'Genes': genes[0]\n",
    "            })\n",
    "\n",
    "    # Convert filtered pathways to a DataFrame\n",
    "    pathways_df = pd.DataFrame(filtered_pathways)\n",
    "    pathways_df.sort_values(by='Adjusted_p_value', inplace=True)\n",
    "\n",
    "    # Filter pathways based on Jaccard index\n",
    "    filtered_pathways = {}\n",
    "    for i, row in pathways_df.iterrows():\n",
    "        current_genes = set(row['Genes'])\n",
    "        if not any(jaccard_index(current_genes, set(filtered_row['Genes'])) > JAC_THRESHOLD\n",
    "                   for filtered_row in filtered_pathways.values()):\n",
    "            filtered_pathways[row['Pathway']] = row\n",
    "\n",
    "    return filtered_pathways"
   ],
   "metadata": {
    "collapsed": false,
    "ExecuteTime": {
     "end_time": "2024-01-23T14:22:25.868867300Z",
     "start_time": "2024-01-23T14:22:25.826907300Z"
    }
   },
   "id": "ad2a8b797ccc803a",
   "execution_count": 5
  },
  {
   "cell_type": "code",
   "outputs": [],
   "source": [
    "def jaccard_index(set1, set2):\n",
    "    intersection = len(set1.intersection(set2))\n",
    "    union = len(set1.union(set2))\n",
    "    return intersection / union"
   ],
   "metadata": {
    "collapsed": false,
    "ExecuteTime": {
     "end_time": "2024-01-23T14:22:25.872862200Z",
     "start_time": "2024-01-23T14:22:25.839587100Z"
    }
   },
   "id": "fc318021f3dd066b",
   "execution_count": 6
  },
  {
   "cell_type": "code",
   "outputs": [],
   "source": [
    "def kolmogorov_smirnov_test(experiment_scores, control_scores):\n",
    "    # Convert lists to numpy arrays and sort\n",
    "    experiment_scores = np.sort(experiment_scores)\n",
    "    control_scores = np.sort(control_scores)\n",
    "    # Initialize variables\n",
    "    en1 = len(experiment_scores)\n",
    "    en2 = len(control_scores)\n",
    "\n",
    "    # Calculate empirical cumulative distribution functions for both sets\n",
    "    data_all = np.concatenate([experiment_scores, control_scores])\n",
    "    cdf_experiment = np.searchsorted(experiment_scores, data_all, side='right') / en1\n",
    "    cdf_control = np.searchsorted(control_scores, data_all, side='right') / en2\n",
    "\n",
    "    # Find the maximum distance\n",
    "    D = np.max(np.abs(cdf_experiment - cdf_control))\n",
    "    # Calculate the KS statistic\n",
    "    en = np.sqrt(en1 * en2 / (en1 + en2))\n",
    "    p_value = ks((en + 0.12 + 0.11 / en) * D)\n",
    "\n",
    "    return p_value\n",
    "\n",
    "\n",
    "def ks(alam):\n",
    "    EPS1 = 1e-6  # Convergence criterion based on the term's absolute value\n",
    "    EPS2 = 1e-10  # Convergence criterion based on the sum's relative value\n",
    "    a2 = -2.0 * alam ** 2  # Squared and negated lambda for exponential calculation\n",
    "    fac = 2.0\n",
    "    sum = 0.0\n",
    "    termbf = 0.0\n",
    "\n",
    "    # Iteratively calculate the KS probability\n",
    "    for j in range(1, 101):\n",
    "        term = fac * np.exp(a2 * j ** 2)  # Calculate term of the series\n",
    "        sum += term  # Add to sum\n",
    "\n",
    "        # Check for convergence\n",
    "        if np.abs(term) <= EPS1 * termbf or np.abs(term) <= EPS2 * sum:\n",
    "            return sum\n",
    "\n",
    "        fac = -fac  # Alternate the sign\n",
    "        termbf = np.abs(term)  # Update term before flag\n",
    "\n",
    "    # Return 1.0 if the series does not converge in 100 terms\n",
    "    return 1.0"
   ],
   "metadata": {
    "collapsed": false,
    "ExecuteTime": {
     "end_time": "2024-01-23T14:22:25.887750Z",
     "start_time": "2024-01-23T14:22:25.863864900Z"
    }
   },
   "id": "21719e7a33faaf4b",
   "execution_count": 7
  },
  {
   "cell_type": "code",
   "outputs": [],
   "source": [
    "def wilcoxon_rank_sums_test(experiment_scores, elements_scores, alternative='two-sided'):\n",
    "    p_vals = ranksums(experiment_scores, elements_scores, alternative=alternative).pvalue\n",
    "    return p_vals"
   ],
   "metadata": {
    "collapsed": false,
    "ExecuteTime": {
     "end_time": "2024-01-23T14:22:25.920488900Z",
     "start_time": "2024-01-23T14:22:25.872862200Z"
    }
   },
   "id": "8728428c89881d2a",
   "execution_count": 8
  },
  {
   "cell_type": "code",
   "outputs": [],
   "source": [
    "def print_enriched_pathways_to_file(filtered_pathways, output_folder, threshold=0.05):\n",
    "    output_file_path = path.join(output_folder, f'{test_name}.txt')\n",
    "    significant_count = 0\n",
    "\n",
    "    with open(output_file_path, 'w') as file:\n",
    "        # file.write(\"Enriched Pathways:\\n\")\n",
    "        # file.write(\"------------------\\n\")\n",
    "        for pathway, details in filtered_pathways.items():\n",
    "            p_value = details.get('Adjusted_p_value')\n",
    "            if p_value and p_value < threshold:\n",
    "                file.write(f\"{pathway} {p_value}\\n\")\n",
    "                significant_count += 1\n",
    "\n",
    "        # file.write(f\"===== {significant_count} enriched pathways\\n\")"
   ],
   "metadata": {
    "collapsed": false,
    "ExecuteTime": {
     "end_time": "2024-01-23T14:22:25.936663100Z",
     "start_time": "2024-01-23T14:22:25.899083100Z"
    }
   },
   "id": "222d34d7b8ee9e83",
   "execution_count": 9
  },
  {
   "cell_type": "code",
   "outputs": [],
   "source": [
    "def read_scores(file_name):\n",
    "    \"\"\"Reads scores from a given file into a dictionary.\"\"\"\n",
    "    return pd.read_csv(file_name, sep=' ', header=None, names=['Pathway', 'Score'], index_col='Pathway')[\n",
    "        'Score'].to_dict()"
   ],
   "metadata": {
    "collapsed": false,
    "ExecuteTime": {
     "end_time": "2024-01-23T14:22:25.971749300Z",
     "start_time": "2024-01-23T14:22:25.910971700Z"
    }
   },
   "id": "e5407c13e11b7be5",
   "execution_count": 10
  },
  {
   "cell_type": "code",
   "outputs": [],
   "source": [
    "def read_pathways(file_name):\n",
    "    \"\"\"Reads pathways from a given file into a dictionary.\"\"\"\n",
    "    with open(file_name, 'r') as file:\n",
    "        return {line.split()[0]: [int(gene) for gene in line.split()[2:]] for line in file}"
   ],
   "metadata": {
    "collapsed": false,
    "ExecuteTime": {
     "end_time": "2024-01-23T14:22:25.991069Z",
     "start_time": "2024-01-23T14:22:25.934668Z"
    }
   },
   "id": "511160965dafb49f",
   "execution_count": 11
  },
  {
   "cell_type": "code",
   "outputs": [],
   "source": [
    "def process_experiment(condition_file, experiment_file, pathways_file):\n",
    "    \"\"\"Processes an experiment and returns scores, enriched pathway genes, and mean scores.\"\"\"\n",
    "    scores_dict = read_scores(condition_file)\n",
    "    experiment_data = pd.read_excel(experiment_file)\n",
    "    experiment_data_filtered = experiment_data[experiment_data['Score'] != 0]\n",
    "\n",
    "    pathways = read_pathways(pathways_file)\n",
    "    enriched_pathway_genes = {}\n",
    "    pathway_mean_scores = {}\n",
    "\n",
    "    for pathway, genes in pathways.items():\n",
    "        filtered_genes = experiment_data_filtered[experiment_data_filtered['GeneID'].isin(genes)]\n",
    "        if not filtered_genes.empty:\n",
    "            enriched_pathway_genes[pathway] = filtered_genes.set_index('GeneID')[['Symbol', 'Score']].to_dict(\n",
    "                orient='index')\n",
    "            # # create array of genes with score >=1.5 or <=-1.5\n",
    "            # filtered_genes_by_score = filtered_genes[(filtered_genes['Score'] >= 1.5) | (filtered_genes['Score'] <= -1.5)]\n",
    "            filtered_genes_by_score = filtered_genes[(filtered_genes['P-value'] <= 0.05)]\n",
    "            if not filtered_genes_by_score.empty:\n",
    "                pathway_mean_scores[pathway] = filtered_genes_by_score['Score'].mean()\n",
    "            else:\n",
    "                pathway_mean_scores[pathway] = 0\n",
    "\n",
    "\n",
    "    return scores_dict, enriched_pathway_genes, pathway_mean_scores\n"
   ],
   "metadata": {
    "collapsed": false,
    "ExecuteTime": {
     "end_time": "2024-01-23T14:22:25.993584500Z",
     "start_time": "2024-01-23T14:22:25.951709900Z"
    }
   },
   "id": "cc9fdb92e2fef24",
   "execution_count": 12
  },
  {
   "cell_type": "code",
   "outputs": [],
   "source": [
    "def calculate_trend(pathway_mean_scores):\n",
    "    \"\"\"Calculates the trend (up or down) of each pathway based on its mean score.\"\"\"\n",
    "    trends = {}\n",
    "    for pathway, mean_score in pathway_mean_scores.items():\n",
    "        trend = \"Up\" if mean_score > 0 else \"Down\"\n",
    "        trends[pathway] = trend\n",
    "    return trends"
   ],
   "metadata": {
    "collapsed": false,
    "ExecuteTime": {
     "end_time": "2024-01-23T14:22:26.031020200Z",
     "start_time": "2024-01-23T14:22:25.968749200Z"
    }
   },
   "id": "b13ae407ebde79be",
   "execution_count": 13
  },
  {
   "cell_type": "code",
   "outputs": [],
   "source": [
    "def bold_keywords(text, keywords):\n",
    "    \"\"\"Returns text with keywords in bold.\"\"\"\n",
    "    for keyword in keywords:\n",
    "        if keyword in text:\n",
    "            text = text.replace(text, f\"**{text}**\")\n",
    "    return text"
   ],
   "metadata": {
    "collapsed": false,
    "ExecuteTime": {
     "end_time": "2024-01-23T14:22:26.032612100Z",
     "start_time": "2024-01-23T14:22:25.999103700Z"
    }
   },
   "id": "a13ac4aae80dba69",
   "execution_count": 14
  },
  {
   "cell_type": "code",
   "outputs": [],
   "source": [
    "def print_pathway_information(condition, scores_dict, pathway_genes_dict, pathway_trends, output_dir, experiment_name):\n",
    "\n",
    "    file_path = path.join(output_dir, 'Text', f'{experiment_name}.txt')\n",
    "    with open(file_path, 'a') as file:\n",
    "        file.write(f\"Condition: {condition}\\n------------------------\\n\")\n",
    "        for pathway, p_value in scores_dict.items():\n",
    "            trend = pathway_trends.get(pathway, \"N/A\")\n",
    "            file.write(f\"{pathway} (Trend: {trend}), P-Value: {p_value}\\n\")\n",
    "\n",
    "            for gene_id, details in pathway_genes_dict.get(pathway, {}).items():\n",
    "                if details['Score'] > 1 or details['Score'] < -1:\n",
    "                    file.write(f\"{details['Symbol']} (ID: {gene_id}), Score: {details['Score']}\\n\")\n",
    "\n",
    "            file.write(\"\\n\")"
   ],
   "metadata": {
    "collapsed": false,
    "ExecuteTime": {
     "end_time": "2024-01-23T14:22:26.051040300Z",
     "start_time": "2024-01-23T14:22:26.009883700Z"
    }
   },
   "id": "979d15afd4fe6135",
   "execution_count": 15
  },
  {
   "cell_type": "code",
   "outputs": [],
   "source": [
    "def print_aggregated_pathway_information(aggregated_pathway_data, output_dir, experiment_name):\n",
    "    file_path = path.join(output_dir, 'Text', f'{experiment_name}_aggregated.txt')\n",
    "\n",
    "    with open(file_path, 'w') as file:\n",
    "        for pathway, condition_data in aggregated_pathway_data.items():\n",
    "            file.write(f\"Pathway: {pathway}\\n\")\n",
    "\n",
    "            for condition, details in condition_data.items():\n",
    "                file.write(f\"Condition: {condition}\\n\")\n",
    "                file.write(f\"Trend: {details['trend']}\\n\")\n",
    "                file.write(\"Genes:\\n\")\n",
    "                for gene_id, gene_info in details['genes'].items():\n",
    "                    score = gene_info.get('Score', 0)\n",
    "                    if score > 1 or score < -1:\n",
    "                        symbol = gene_info.get('Symbol', 'N/A')\n",
    "                        file.write(f\"  Gene ID: {gene_id}, Symbol: {symbol}, Score: {score}\\n\")\n",
    "                file.write(\"\\n\")"
   ],
   "metadata": {
    "collapsed": false,
    "ExecuteTime": {
     "end_time": "2024-01-23T14:22:26.089362400Z",
     "start_time": "2024-01-23T14:22:26.040548900Z"
    }
   },
   "id": "8af7c99f1f1f20c4",
   "execution_count": 16
  },
  {
   "cell_type": "code",
   "outputs": [],
   "source": [
    "def plot_pathways_mean_scores(aggregated_pathway_data, output_dir, experiment_name):\n",
    "    \"\"\"Plots mean scores of pathways across experiments in a grouped bar chart.\"\"\"\n",
    "    # Prepare data for plotting\n",
    "    plot_data = {}\n",
    "    for pathway, conditions in aggregated_pathway_data.items():\n",
    "        for condition, details in conditions.items():\n",
    "            if condition not in plot_data:\n",
    "                plot_data[condition] = {}\n",
    "            gene_scores = [gene_info['Score'] for gene_info in details['genes'].values() if 'Score' in gene_info]\n",
    "            plot_data[condition][pathway] = np.mean(gene_scores) if gene_scores else 0\n",
    "\n",
    "    # Convert to DataFrame\n",
    "    data_df = pd.DataFrame(plot_data)\n",
    "\n",
    "    # Increase the figure size significantly\n",
    "    plt.figure(figsize=(60, 20))  # Adjust the size as needed\n",
    "    ax = plt.subplot(111)\n",
    "\n",
    "    conditions = list(plot_data.keys())\n",
    "    total_pathways = data_df.index\n",
    "    num_conditions = len(conditions)\n",
    "    bar_width = 0.8 / num_conditions\n",
    "    positions = np.arange(len(total_pathways))\n",
    "\n",
    "    for i, condition in enumerate(conditions):\n",
    "        mean_scores = data_df[condition].values\n",
    "        ax.bar(positions + bar_width * i, mean_scores, width=bar_width, label=condition)\n",
    "\n",
    "    ax.set_xticks(positions + bar_width * (num_conditions / 2) - bar_width / 2)\n",
    "    ax.set_xticklabels(total_pathways, rotation=90, fontsize=14)\n",
    "    ax.set_xlabel('Pathways', fontsize=16)\n",
    "    ax.set_ylabel('Mean Scores', fontsize=16)\n",
    "    ax.set_title('Pathway Mean Scores Across Different Conditions', fontsize=20)\n",
    "    ax.legend(prop={'size': 14})\n",
    "\n",
    "    plt.subplots_adjust(bottom=0.4)  # Adjust for layout\n",
    "\n",
    "    output_file_path = path.join(output_dir, f\"{experiment_name}_pathway_scores.pdf\")\n",
    "    plt.savefig(output_file_path, format='pdf', bbox_inches='tight')\n",
    "    plt.show()\n"
   ],
   "metadata": {
    "collapsed": false,
    "ExecuteTime": {
     "end_time": "2024-01-23T14:23:50.600893500Z",
     "start_time": "2024-01-23T14:23:50.546956Z"
    }
   },
   "id": "ac867bde1dbf8cea",
   "execution_count": 32
  },
  {
   "cell_type": "code",
   "outputs": [],
   "source": [
    "minimum_gene_per_pathway = 20\n",
    "maximum_gene_per_pathway = 200\n",
    "FDR_threshold = 0.05\n",
    "JAC_THRESHOLD = 0.2\n",
    "root_path = '/mnt/c/Users/pickh/PycharmProjects/Yair_propagation'\n",
    "output_path = '/mnt/c/Users/pickh/PycharmProjects/Yair_propagation/Outputs'\n",
    "figure_name = 'figure'\n",
    "figure_title = 'Pathway Enrichment'\n",
    "Experiment_name = 'Parkinson'\n",
    "species = 'H_sapiens'\n",
    "data_file = 'Data'\n",
    "genes_names_file = 'H_sapiens.gene_info'  # optional if needed\n",
    "date = datetime.today().strftime('%d_%m_%Y__%H_%M_%S')\n",
    "pathway_file = 'pathways'\n",
    "data_dir = path.join(root_path, data_file)\n",
    "genes_names_file_path = path.join(data_dir, species, 'genes_names', genes_names_file)\n",
    "pathway_file_dir = path.join(data_dir, species, 'pathways', pathway_file)\n",
    "input_dir = path.join(root_path, 'Inputs', 'experiments_data', Experiment_name)\n",
    "\n",
    "output_folder = path.join(root_path, 'Outputs', 'Temp')\n",
    "if not path.exists(output_folder):\n",
    "    makedirs(output_folder)\n",
    "\n",
    "statistic_test = kolmogorov_smirnov_test\n",
    "genes_by_pathway = load_pathways_genes()"
   ],
   "metadata": {
    "collapsed": false,
    "ExecuteTime": {
     "end_time": "2024-01-23T14:22:26.239746600Z",
     "start_time": "2024-01-23T14:22:26.077762300Z"
    }
   },
   "id": "259387e4a236027b",
   "execution_count": 18
  },
  {
   "cell_type": "code",
   "outputs": [
    {
     "name": "stdout",
     "output_type": "stream",
     "text": [
      "running enrichment\n",
      "After filtering: 1052\n"
     ]
    }
   ],
   "source": [
    "test_name = \"T_v_N\"\n",
    "print(\"running enrichment\")\n",
    "significant_pathways_with_genes, scores = perform_statist()"
   ],
   "metadata": {
    "collapsed": false,
    "ExecuteTime": {
     "end_time": "2024-01-23T14:22:31.073657Z",
     "start_time": "2024-01-23T14:22:26.246175100Z"
    }
   },
   "id": "a38623f82b8d8d0e",
   "execution_count": 19
  },
  {
   "cell_type": "code",
   "outputs": [],
   "source": [
    "filtered_pathways = perform_statist_mann_whitney(significant_pathways_with_genes, scores)"
   ],
   "metadata": {
    "collapsed": false,
    "ExecuteTime": {
     "end_time": "2024-01-23T14:22:31.454619700Z",
     "start_time": "2024-01-23T14:22:31.082653800Z"
    }
   },
   "id": "61f16b2d1e515a8",
   "execution_count": 20
  },
  {
   "cell_type": "code",
   "outputs": [
    {
     "name": "stdout",
     "output_type": "stream",
     "text": [
      "finished enrichment\n"
     ]
    }
   ],
   "source": [
    "print(\"finished enrichment\")\n",
    "print_enriched_pathways_to_file(filtered_pathways, output_folder, FDR_threshold)"
   ],
   "metadata": {
    "collapsed": false,
    "ExecuteTime": {
     "end_time": "2024-01-23T14:22:31.479693600Z",
     "start_time": "2024-01-23T14:22:31.450105Z"
    }
   },
   "id": "bc2ff917278974b9",
   "execution_count": 21
  },
  {
   "cell_type": "code",
   "outputs": [
    {
     "name": "stdout",
     "output_type": "stream",
     "text": [
      "running enrichment\n",
      "After filtering: 1052\n",
      "finished enrichment\n"
     ]
    }
   ],
   "source": [
    "test_name = \"500nm_v_T\"\n",
    "print(\"running enrichment\")\n",
    "significant_pathways_with_genes, scores = perform_statist()\n",
    "filtered_pathways = perform_statist_mann_whitney(significant_pathways_with_genes, scores)\n",
    "print(\"finished enrichment\")\n",
    "print_enriched_pathways_to_file(filtered_pathways, output_folder, FDR_threshold)"
   ],
   "metadata": {
    "collapsed": false,
    "ExecuteTime": {
     "end_time": "2024-01-23T14:22:35.181927Z",
     "start_time": "2024-01-23T14:22:31.470163500Z"
    }
   },
   "id": "6563f89a9e0b245b",
   "execution_count": 22
  },
  {
   "cell_type": "code",
   "outputs": [],
   "source": [
    "condition_files = [path.join(output_folder, file) for file in listdir(output_folder)]"
   ],
   "metadata": {
    "collapsed": false,
    "ExecuteTime": {
     "end_time": "2024-01-23T14:22:35.207551400Z",
     "start_time": "2024-01-23T14:22:35.181927Z"
    }
   },
   "id": "403fa80f49289621",
   "execution_count": 23
  },
  {
   "cell_type": "code",
   "outputs": [],
   "source": [
    "test_file_paths = [f'{input_dir}/500nm_v_T.xlsx', f'{input_dir}/T_v_N.xlsx']"
   ],
   "metadata": {
    "collapsed": false,
    "ExecuteTime": {
     "end_time": "2024-01-23T14:22:35.210552600Z",
     "start_time": "2024-01-23T14:22:35.200523800Z"
    }
   },
   "id": "a39e9197249bc028",
   "execution_count": 24
  },
  {
   "cell_type": "code",
   "outputs": [],
   "source": [
    "# Initialize dictionaries to store aggregated data\n",
    "all_enriched_genes = {}\n",
    "all_mean_scores = {}\n",
    "aggregated_pathway_data = {}"
   ],
   "metadata": {
    "collapsed": false,
    "ExecuteTime": {
     "end_time": "2024-01-23T14:22:35.232822700Z",
     "start_time": "2024-01-23T14:22:35.205037500Z"
    }
   },
   "id": "f9744a28ef61b0f5",
   "execution_count": 25
  },
  {
   "cell_type": "code",
   "outputs": [],
   "source": [
    "# Processing and aggregating data\n",
    "for condition_file, experiment_file in zip(condition_files, test_file_paths):\n",
    "    scores_dict, pathway_genes_dict, pathway_mean_scores = process_experiment(condition_file, experiment_file,\n",
    "                                                                              pathway_file_dir)\n",
    "    pathway_trends = calculate_trend(pathway_mean_scores)\n",
    "\n",
    "    for pathway, p_value in scores_dict.items():\n",
    "        if pathway not in aggregated_pathway_data:\n",
    "            aggregated_pathway_data[pathway] = {}\n",
    "\n",
    "        condition_name = path.basename(condition_file).split('.')[0]\n",
    "        aggregated_pathway_data[pathway][condition_name] = {\n",
    "            'trend': pathway_trends.get(pathway, \"N/A\"),\n",
    "            'genes': pathway_genes_dict.get(pathway, {})\n",
    "        }\n",
    "\n",
    "    all_enriched_genes[condition_file] = scores_dict\n",
    "    all_mean_scores[condition_file] = pathway_mean_scores\n",
    "\n",
    "# Print aggregated pathway information\n",
    "print_aggregated_pathway_information(aggregated_pathway_data, output_path, Experiment_name)\n"
   ],
   "metadata": {
    "collapsed": false,
    "ExecuteTime": {
     "end_time": "2024-01-23T14:22:50.269940900Z",
     "start_time": "2024-01-23T14:22:35.219811900Z"
    }
   },
   "id": "11d6f6a14ee25e14",
   "execution_count": 26
  },
  {
   "cell_type": "code",
   "outputs": [
    {
     "ename": "IndexError",
     "evalue": "invalid index to scalar variable.",
     "output_type": "error",
     "traceback": [
      "\u001B[0;31m---------------------------------------------------------------------------\u001B[0m",
      "\u001B[0;31mIndexError\u001B[0m                                Traceback (most recent call last)",
      "Cell \u001B[0;32mIn[33], line 2\u001B[0m\n\u001B[1;32m      1\u001B[0m \u001B[38;5;66;03m# Plot the mean scores\u001B[39;00m\n\u001B[0;32m----> 2\u001B[0m \u001B[43mplot_pathways_mean_scores\u001B[49m\u001B[43m(\u001B[49m\u001B[43mall_mean_scores\u001B[49m\u001B[43m,\u001B[49m\u001B[43m \u001B[49m\u001B[43moutput_path\u001B[49m\u001B[43m,\u001B[49m\u001B[43m \u001B[49m\u001B[43mExperiment_name\u001B[49m\u001B[43m)\u001B[49m\n",
      "Cell \u001B[0;32mIn[32], line 10\u001B[0m, in \u001B[0;36mplot_pathways_mean_scores\u001B[0;34m(aggregated_pathway_data, output_dir, experiment_name)\u001B[0m\n\u001B[1;32m      8\u001B[0m             plot_data[condition] \u001B[38;5;241m=\u001B[39m {}\n\u001B[1;32m      9\u001B[0m         \u001B[38;5;66;03m# Ensure gene_scores is a list before calculating the mean\u001B[39;00m\n\u001B[0;32m---> 10\u001B[0m         gene_scores \u001B[38;5;241m=\u001B[39m [gene_info[\u001B[38;5;124m'\u001B[39m\u001B[38;5;124mScore\u001B[39m\u001B[38;5;124m'\u001B[39m] \u001B[38;5;28;01mfor\u001B[39;00m gene_info \u001B[38;5;129;01min\u001B[39;00m \u001B[43mdetails\u001B[49m\u001B[43m[\u001B[49m\u001B[38;5;124;43m'\u001B[39;49m\u001B[38;5;124;43mgenes\u001B[39;49m\u001B[38;5;124;43m'\u001B[39;49m\u001B[43m]\u001B[49m\u001B[38;5;241m.\u001B[39mvalues() \u001B[38;5;28;01mif\u001B[39;00m \u001B[38;5;124m'\u001B[39m\u001B[38;5;124mScore\u001B[39m\u001B[38;5;124m'\u001B[39m \u001B[38;5;129;01min\u001B[39;00m gene_info]\n\u001B[1;32m     11\u001B[0m         plot_data[condition][pathway] \u001B[38;5;241m=\u001B[39m np\u001B[38;5;241m.\u001B[39mmean(gene_scores) \u001B[38;5;28;01mif\u001B[39;00m gene_scores \u001B[38;5;28;01melse\u001B[39;00m \u001B[38;5;241m0\u001B[39m\n\u001B[1;32m     13\u001B[0m \u001B[38;5;66;03m# Convert to DataFrame and handle missing values\u001B[39;00m\n",
      "\u001B[0;31mIndexError\u001B[0m: invalid index to scalar variable."
     ]
    }
   ],
   "source": [
    "# Plot the mean scores\n",
    "plot_pathways_mean_scores(all_mean_scores, output_path, Experiment_name)"
   ],
   "metadata": {
    "collapsed": false,
    "ExecuteTime": {
     "end_time": "2024-01-23T14:23:55.933977800Z",
     "start_time": "2024-01-23T14:23:55.914339400Z"
    }
   },
   "id": "647ed882827f6b59",
   "execution_count": 33
  },
  {
   "cell_type": "code",
   "outputs": [],
   "source": [
    "# Clean up the output folder if it exists\n",
    "if path.exists(output_folder):\n",
    "    shutil.rmtree(output_folder)"
   ],
   "metadata": {
    "collapsed": false,
    "ExecuteTime": {
     "end_time": "2024-01-23T14:23:44.734562700Z",
     "start_time": "2024-01-23T14:23:44.699712Z"
    }
   },
   "id": "96cc750d7107c768",
   "execution_count": 31
  }
 ],
 "metadata": {
  "kernelspec": {
   "display_name": "Python 3",
   "language": "python",
   "name": "python3"
  },
  "language_info": {
   "codemirror_mode": {
    "name": "ipython",
    "version": 2
   },
   "file_extension": ".py",
   "mimetype": "text/x-python",
   "name": "python",
   "nbconvert_exporter": "python",
   "pygments_lexer": "ipython2",
   "version": "2.7.6"
  }
 },
 "nbformat": 4,
 "nbformat_minor": 5
}
